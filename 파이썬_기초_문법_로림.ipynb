{
  "nbformat": 4,
  "nbformat_minor": 0,
  "metadata": {
    "kernelspec": {
      "display_name": "Python 3",
      "language": "python",
      "name": "python3"
    },
    "language_info": {
      "codemirror_mode": {
        "name": "ipython",
        "version": 3
      },
      "file_extension": ".py",
      "mimetype": "text/x-python",
      "name": "python",
      "nbconvert_exporter": "python",
      "pygments_lexer": "ipython3",
      "version": "3.8.5"
    },
    "colab": {
      "provenance": [],
      "collapsed_sections": [],
      "include_colab_link": true
    }
  },
  "cells": [
    {
      "cell_type": "markdown",
      "metadata": {
        "id": "view-in-github",
        "colab_type": "text"
      },
      "source": [
        "<a href=\"https://colab.research.google.com/github/lo-lim/ITB2022/blob/main/%ED%8C%8C%EC%9D%B4%EC%8D%AC_%EA%B8%B0%EC%B4%88_%EB%AC%B8%EB%B2%95_%EB%A1%9C%EB%A6%BC.ipynb\" target=\"_parent\"><img src=\"https://colab.research.google.com/assets/colab-badge.svg\" alt=\"Open In Colab\"/></a>"
      ]
    },
    {
      "cell_type": "markdown",
      "metadata": {
        "id": "UIPfKysyew6L"
      },
      "source": [
        "# Python basic I"
      ]
    },
    {
      "cell_type": "markdown",
      "metadata": {
        "id": "sX4H-1-5ew6b"
      },
      "source": [
        "## 파이썬 기초를 위한 참고 자료"
      ]
    },
    {
      "cell_type": "markdown",
      "source": [
        "\n",
        "\n",
        "A  \n",
        "B\n",
        "\n",
        "(줄을 바꾸기 위해서는 위 문장에 스페이스 바를 두 번 누르면 자동으로 들여쓰기가 됨.)"
      ],
      "metadata": {
        "id": "bkaZ3Nm9I8RR"
      }
    },
    {
      "cell_type": "markdown",
      "metadata": {
        "id": "0C48voB6ew6b"
      },
      "source": [
        "우선 파이썬 첫 수업을 통해 파이썬과 조금이라도 친해졌다면 그것만으로도 충분하다. 여기서 꼭 기억해야 할 것은 파이썬 문법을 모두 마스터해야 할  필요는 없다는 것이다. 마이닝 기법을 배우면서 필요할 때마다 찾아보면서 배우면 된다.\n",
        "\n",
        "그리고 코드가 실행되지 않거나 에러 메세지가 나온다고 해서 실망하지 말자. 대부분은 구글 검색을 통해 해결 방법을 찾을 수 있을 것이고, 찾을 수 없다면 스노우보드 Q&A 게시판에 질문하자!\n",
        "\n",
        "좀 더 많은 예제를 보면서 공부하고 싶다면 아래 참고 도서 이외에도 도서관이나 인터넷을 통해 구할 수 있는 파이썬 자료면 어떤 것이라도 참조해도 좋다. \n",
        "- [Codecademy's Python Course](https://www.codecademy.com/learn/learn-python-3)\n",
        "- [Python for Data Analysis](https://www.amazon.com/Python-Data-Analysis-Wrangling-IPython-ebook/dp/B009NLMB8Q/ref=mt_kindle?_encoding=UTF8&me=) \n",
        "- [Pandas Cookbook](https://www.amazon.com/Pandas-Cookbook-Scientific-Computing-Visualization/dp/1784393878) \n",
        "- [토닥토닥 파이썬 기초](https://wikidocs.net/book/1637)\n",
        "- [점프 투 파이썬](https://wikidocs.net/book/1)"
      ]
    },
    {
      "cell_type": "markdown",
      "metadata": {
        "id": "Ea8QfVmdew6L"
      },
      "source": [
        "-----------------------------------------------------------------\n",
        "데이터 마이닝 기법을 배우기 앞서 파이썬 기본 문법을 예시를 통해 배워보자 (다양한 파이썬 교재 참조함). 이 외에 추가적으로 알아야 하는 문법이 있다면 수업 중간에 필요할 때마다 설명할 예정이다. \n",
        "\n",
        "*텍스트 셀에서 줄바꿈을 하기 위해서는 줄 마지막에 Space 2개를 넣고 엔터치기"
      ]
    },
    {
      "cell_type": "markdown",
      "metadata": {
        "id": "r8_JSBdoew6M"
      },
      "source": [
        "## 1.변수와 데이터 타입\n",
        "변수(variable: 변하는 수)는 데이터를 저장하기 위한 공간으로 다양한 유형의 데이터를 저장할 수 있다. \n",
        "- 정수 (integer)\n",
        "- 실수 (floating)\n",
        "- 논리값 (boolean: True 또는 False) *반드시 첫글자가 대문자이어야함* \n",
        "- 문자 (string)\n",
        "\n",
        "4가지 다른 유형의 데이터를 저장하는 변수를 정의하고 이를 출력해 보자. 데이터를 출력하기 위해서는 print() 함수(function)를 이용한다.   \n",
        "*파이썬에서의 함수는 작업을 수행하여 결과를 반환하기 위해 설계된 프로그램 코드의 집합이라고 할 수 있다.      \n",
        "*print()없이 변수명을 적으면 마지막 줄만 셀에 출력된다. "
      ]
    },
    {
      "cell_type": "code",
      "metadata": {
        "id": "zjU3q7IDew6M",
        "colab": {
          "base_uri": "https://localhost:8080/"
        },
        "outputId": "3e5fcdde-98dd-4c36-ce66-d25ad1d2a101"
      },
      "source": [
        "some_integer = 5           #some_integer라는 변수에 5 할당 \n",
        "some_float = 7.12\n",
        "some_boolean = True  #논리값, True or False (논리 값들은 앞문자가 무조건 대문자)\n",
        "some_string = 'Student'    #작은 따옴표 또는 큰 따옴표 이용 (\"Student\") \n",
        "\n",
        "#변수의 값을 출력\n",
        "print(some_integer)\n",
        "print(some_float)\n",
        "print(some_boolean)\n",
        "print(some_string)\n",
        "print(some_integer, some_float, some_boolean, some_string)    #,로 나열하면 한 줄로 값들이 한꺼번에 출력 \n",
        "\n",
        "#type()함수는 변수의 데이터 타입을 출력 (int 정수, float 실수, str 문자열 등)\n",
        "#type을 변경하려면 int(), float(), str() 등의 함수 이용 \n",
        "\n",
        "print(type(some_float))\n",
        "print(type(some_string))"
      ],
      "execution_count": null,
      "outputs": [
        {
          "output_type": "stream",
          "name": "stdout",
          "text": [
            "5\n",
            "7.12\n",
            "True\n",
            "Student\n",
            "5 7.12 True Student\n",
            "<class 'float'>\n",
            "<class 'str'>\n"
          ]
        }
      ]
    },
    {
      "cell_type": "markdown",
      "metadata": {
        "id": "QnDuMNMPhnxH"
      },
      "source": [
        "## 2.기본 연산\n",
        "산술, 비교, 논리연산자를 이용해 보자.\n",
        "- 산술 연산: + - / * %(나머지 값), **(거듭 제곱) 등\n",
        "- 비교 연산: > < <= >= == !=\n",
        "- 논리 연산: and or not "
      ]
    },
    {
      "cell_type": "code",
      "metadata": {
        "colab": {
          "base_uri": "https://localhost:8080/"
        },
        "id": "4IBckdrwjrgp",
        "outputId": "7ca0d4ca-4e99-4aa9-e88d-358b60a44f50"
      },
      "source": [
        "a = 3\n",
        "b = 5\n",
        "c = 2\n",
        "\n",
        "# 3+5 = 8 \n",
        "print(a+b) \n",
        "d=a+b\n",
        "print(d)\n",
        "\n",
        "# 3+2 = 5\n",
        "a = a + 2   #a+=2\n",
        "print (a)\n",
        "\n",
        "# 5*2 + 5 = 15\n",
        "print (a*c+b)"
      ],
      "execution_count": null,
      "outputs": [
        {
          "output_type": "stream",
          "name": "stdout",
          "text": [
            "8\n",
            "8\n",
            "5\n",
            "15\n"
          ]
        }
      ]
    },
    {
      "cell_type": "code",
      "metadata": {
        "colab": {
          "base_uri": "https://localhost:8080/"
        },
        "id": "dxPD59fak8MR",
        "outputId": "9ce5823f-01df-48a8-fecd-092dc3747f2a"
      },
      "source": [
        "d = True\n",
        "e = False\n",
        "\n",
        "# and : 둘 다 True일 경우에만 True\n",
        "print (d and e)\n",
        "# or : 하나라도 True일 경우 True\n",
        "print (d or e)\n",
        "# not : True(False)를 False(True)로 변경\n",
        "print (not d)\n",
        "\n",
        "#결과 값이 같다면 True, 그렇지 않다면 False\n",
        "print (10 / 2 == 3)\n",
        "print (10 % 2 == 0) "
      ],
      "execution_count": null,
      "outputs": [
        {
          "output_type": "stream",
          "name": "stdout",
          "text": [
            "False\n",
            "True\n",
            "False\n",
            "False\n",
            "True\n"
          ]
        }
      ]
    },
    {
      "cell_type": "markdown",
      "metadata": {
        "id": "vXKzB9SXoUj-"
      },
      "source": [
        "## 3.문자열\n",
        "문자열은 작은 따옴표(‘ ’) 또는 큰 따옴표 (“ ”)로 묶어서 표시한다. 여러 줄(line)로 된 문자열인 경우 \"\"\" \"\"\" 또는 ''' '''으로 묶어서 표시한다."
      ]
    },
    {
      "cell_type": "code",
      "metadata": {
        "colab": {
          "base_uri": "https://localhost:8080/"
        },
        "id": "YUf5dW9XosD2",
        "outputId": "171c33de-1bd6-4352-884a-10153d6d6244"
      },
      "source": [
        "new_string =\"Python's favorite food is perl.\"    #'을 앞에 \\을 붙이면 ' 그 자체로 문자로 인식한다는 의미 \n",
        "print(\"Python\\'s favorite food is perl.\" )\n",
        "multi_string =\"\"\"\n",
        "Life is short.\n",
        "You need python.\n",
        "\"\"\"\n",
        "\n",
        "print(new_string)\n",
        "print(multi_string)\n",
        "\n",
        "print(1 + 2 )\n",
        "print('1' + '2')  # error: print('1' + 2)\n",
        "#문자로 인식해서 1하고2를 연속으로 붙여서 출력 "
      ],
      "execution_count": null,
      "outputs": [
        {
          "output_type": "stream",
          "name": "stdout",
          "text": [
            "Python's favorite food is perl.\n",
            "Python's favorite food is perl.\n",
            "\n",
            "Life is short.\n",
            "You need python.\n",
            "\n",
            "3\n",
            "12\n"
          ]
        }
      ]
    },
    {
      "cell_type": "code",
      "metadata": {
        "colab": {
          "base_uri": "https://localhost:8080/"
        },
        "id": "Ho1k0Tw92H2h",
        "outputId": "3dfe0809-3393-41a2-b572-3b5c7cdf891a"
      },
      "source": [
        "#데이터 타입을 문자열로 바꾸는 함수 str()을 이용하여 출력\n",
        "print (\"My integer is \" + str(some_integer) + \".\")\n",
        "\n",
        "print(some_integer)"
      ],
      "execution_count": null,
      "outputs": [
        {
          "output_type": "stream",
          "name": "stdout",
          "text": [
            "My integer is 5.\n",
            "5\n"
          ]
        }
      ]
    },
    {
      "cell_type": "markdown",
      "metadata": {
        "id": "aWfTOYGp2yhY"
      },
      "source": [
        "## 4.출력 포맷\n",
        "format() 함수를 이용하여 출력 형태를 지정해 준다."
      ]
    },
    {
      "cell_type": "code",
      "metadata": {
        "colab": {
          "base_uri": "https://localhost:8080/"
        },
        "id": "flnhSbAY4AM7",
        "outputId": "46f53ab2-dc6d-4b8c-cfde-4ba51f836a4b"
      },
      "source": [
        "bannas =3\n",
        "apple = 4\n",
        "days =5\n",
        "\n",
        "# {0} {1} 인덱스, format 함수의 입력값을 순서대로 매칭 \n",
        "print(\"Shayne ate {0} bannas and {1} apples for {2} days\".format(bannas,apple, days))"
      ],
      "execution_count": null,
      "outputs": [
        {
          "output_type": "stream",
          "name": "stdout",
          "text": [
            "Shayne ate 3 bannas and 4 apples for 5 days\n"
          ]
        }
      ]
    },
    {
      "cell_type": "code",
      "metadata": {
        "colab": {
          "base_uri": "https://localhost:8080/"
        },
        "id": "PaSinnXU4WhY",
        "outputId": "24166f48-1631-43a8-e902-fc75d781b22d"
      },
      "source": [
        "model_a = 4.456545647\n",
        "model_b = 7.434356457\n",
        "\n",
        "# .3f 소수점 3자리까지 반올림해서 표현\n",
        "# .2f 소수점 2자리까지 반올림해서 표현\n",
        "print(\"A = {0:.3f}, B={1:.2f}\".format(model_a, model_b))"
      ],
      "execution_count": null,
      "outputs": [
        {
          "output_type": "stream",
          "name": "stdout",
          "text": [
            "A = 4.457, B=7.43\n"
          ]
        }
      ]
    },
    {
      "cell_type": "markdown",
      "metadata": {
        "id": "Mg126QFO4z7-"
      },
      "source": [
        "문자열의 각 문자마다 번호를 매겨 해당 문자만 찾아 이용할 수 있다. 번호는 0부터 시작된다.  "
      ]
    },
    {
      "cell_type": "code",
      "metadata": {
        "colab": {
          "base_uri": "https://localhost:8080/"
        },
        "id": "lWDAqdclxxro",
        "outputId": "70269825-d572-436d-f22e-958905262741"
      },
      "source": [
        "msg = 'Hello World'\n",
        "\n",
        "#앞에서 세번째 문자 (0부터 시작이므로 2+1)\n",
        "print(msg[2])\n",
        "\n",
        "#뒤에서 첫번째 문자\n",
        "print(msg[-1])\n",
        "\n",
        "#두번째 문자부터 세번째 문자까지를 나타냄 (마지막 숫자는 제외)\n",
        "print(msg[1:3])\n",
        "\n",
        "#첫번째 문자부터 네번째 문자까지를 나타냄 (마지막 숫자는 제외)\n",
        "print(msg[:4])"
      ],
      "execution_count": null,
      "outputs": [
        {
          "output_type": "stream",
          "name": "stdout",
          "text": [
            "l\n",
            "d\n",
            "el\n",
            "Hell\n"
          ]
        }
      ]
    },
    {
      "cell_type": "code",
      "metadata": {
        "colab": {
          "base_uri": "https://localhost:8080/"
        },
        "id": "A1W1ysop0usI",
        "outputId": "767e7466-c250-461c-d971-937d2604f7e3"
      },
      "source": [
        "#첫 단어만 대문자로, 나머지는 소문자로\n",
        "print(msg.capitalize())\n",
        "\n",
        "#upper() 대문자로, lower() 소문자로  \n",
        "print(msg.upper())\n",
        "\n",
        "#replace 대체하기 \n",
        "print(msg.replace('Hello', 'hello'))\n",
        "\n",
        "msg = '  hello  '\n",
        "#문자열 양쪽에 있는 한 칸 이상의 연속된 공간을 지운다. \n",
        "print(msg)\n",
        "print(msg.strip())"
      ],
      "execution_count": null,
      "outputs": [
        {
          "output_type": "stream",
          "name": "stdout",
          "text": [
            "Hello world\n",
            "HELLO WORLD\n",
            "hello World\n",
            "  hello  \n",
            "hello\n"
          ]
        }
      ]
    },
    {
      "cell_type": "code",
      "metadata": {
        "colab": {
          "base_uri": "https://localhost:8080/"
        },
        "id": "IlviSVk00pk8",
        "outputId": "5af6df2a-5322-4671-c739-bd230d4c562e"
      },
      "source": [
        "h = 'hello'\n",
        "k = \"world\"\n",
        "\n",
        "print(h)\n",
        "\n",
        "# 문자의 길이 \n",
        "print(len(h))\n",
        "\n",
        "# 두 개의 문자 결합하여 출력 \n",
        "print(h+k)\n",
        "\n",
        "# 문자 사이에 공백 넣기 \n",
        "hk = h + ' ' + k\n",
        "print(hk)\n",
        "\n",
        "# 문자:%s  정수:%d  실수: %.3f (소수점 3자리로 반올림)\n",
        "# 바로 뒤따르는 '%변수'의 값으로 출력\n",
        "print('%s %s %d' %(h, k, 2022))\n",
        "print(h + ' ' + k + ' ' + str(2022))\n",
        "print(h, hk)"
      ],
      "execution_count": null,
      "outputs": [
        {
          "output_type": "stream",
          "name": "stdout",
          "text": [
            "hello\n",
            "5\n",
            "helloworld\n",
            "hello world\n",
            "hello world 2022\n",
            "hello world 2022\n",
            "hello hello world\n"
          ]
        }
      ]
    },
    {
      "cell_type": "markdown",
      "metadata": {
        "id": "yblHjrLu3rGz"
      },
      "source": [
        "## 5.리스트 (List)\n",
        "여러 개의 데이터를 한 곳에 묶는 방법으로 리스트가 가장 많이 사용된다. 리스트에는 임의의 데이터 타입을 담을 수 있다. 리스트를 만들려면 [ ]를 사용하며, list()함수를 이용하여 문자를 리스트로 변환할 수 있다. "
      ]
    },
    {
      "cell_type": "code",
      "metadata": {
        "colab": {
          "base_uri": "https://localhost:8080/"
        },
        "id": "7VkuMVXz4cKw",
        "outputId": "b0feff86-b8e8-41c4-f18f-cd0bb050fc14"
      },
      "source": [
        "odd = [1,3,5,7,9] \n",
        "print(odd)\n",
        "\n",
        "nums = [2,3,4,5,6]\n",
        "print(nums)\n",
        "\n",
        "str_list = list(\"abc\")\n",
        "print(str_list)"
      ],
      "execution_count": null,
      "outputs": [
        {
          "output_type": "stream",
          "name": "stdout",
          "text": [
            "[1, 3, 5, 7, 9]\n",
            "[2, 3, 4, 5, 6]\n",
            "['a', 'b', 'c']\n"
          ]
        }
      ]
    },
    {
      "cell_type": "code",
      "metadata": {
        "colab": {
          "base_uri": "https://localhost:8080/"
        },
        "id": "okjuulQ2c8VJ",
        "outputId": "c0552b8b-ba68-4277-98e7-a8c1a5481479"
      },
      "source": [
        "print(odd[0])   # 첫번째 값 \n",
        "print(odd[4])   # 다섯번째 값\n",
        "print(odd[-2])  # 뒤에서 두번째 값 \n",
        "print(odd[1:4]) # 두번째에서 네번째 값 "
      ],
      "execution_count": null,
      "outputs": [
        {
          "output_type": "stream",
          "name": "stdout",
          "text": [
            "1\n",
            "9\n",
            "7\n",
            "[3, 5, 7]\n"
          ]
        }
      ]
    },
    {
      "cell_type": "code",
      "metadata": {
        "colab": {
          "base_uri": "https://localhost:8080/"
        },
        "id": "zHCbW9trdrpN",
        "outputId": "790cc64c-8eaf-4828-b3cc-249ea9667baa"
      },
      "source": [
        "#append() 함수를 이용하여 리스트에 요소 추가, remove(): 삭제 \n",
        "odd.append(11)\n",
        "\n",
        "#특정 위치에 있는 리스트의 값 수정  (5에서 6으로 변경)\n",
        "odd[2]=6\n",
        "print(odd)\n",
        "\n",
        "#+를 사용하여 두 개의 리스트를 붙임\n",
        "print(odd + nums)\n",
        "\n",
        "odd = odd + [13,15,17,19]\n",
        "print(odd)"
      ],
      "execution_count": null,
      "outputs": [
        {
          "output_type": "stream",
          "name": "stdout",
          "text": [
            "[1, 3, 6, 7, 9, 11]\n",
            "[1, 3, 6, 7, 9, 11, 2, 3, 4, 5, 6]\n",
            "[1, 3, 6, 7, 9, 11, 13, 15, 17, 19]\n"
          ]
        }
      ]
    },
    {
      "cell_type": "code",
      "metadata": {
        "colab": {
          "base_uri": "https://localhost:8080/"
        },
        "id": "5Tfnc151gg63",
        "outputId": "74da40ec-2349-4529-acd3-2a0dd0caf7c8"
      },
      "source": [
        "# \"구분자\".join(리스트) 함수는 구분자를 넣어서 하나의 문자열로 변환\n",
        "\n",
        "words1 = \"\".join(['e', 'f', 'g'])\n",
        "print(words1)\n",
        "\n",
        "words2 = \",\".join(['e', 'f', 'g'])\n",
        "print(words2)"
      ],
      "execution_count": null,
      "outputs": [
        {
          "output_type": "stream",
          "name": "stdout",
          "text": [
            "efg\n",
            "e,f,g\n"
          ]
        }
      ]
    },
    {
      "cell_type": "markdown",
      "metadata": {
        "id": "qiPLHFSQ4dC8"
      },
      "source": [
        "## 6.제어문과 반복문\n",
        "\n",
        "- if : 조건에 따라 다른 작업 수행\n",
        "- while, for : 조건을 만족하는 동안 반복 작업 수행\n",
        "\n",
        "if, while, for문의 다음 줄은 항상 들여쓰기를 해야한다. (보통 공백 4칸) 파이썬은 들여쓰기 자체가 문법이기 때문에, 들여쓰기를 하지 않는 경우 코드가 실행되지 않는다. if, for, while 조건문 뒤에는 반드시 콜론(:)을 써야한다."
      ]
    },
    {
      "cell_type": "code",
      "metadata": {
        "colab": {
          "base_uri": "https://localhost:8080/"
        },
        "id": "MExWEuGU4f4b",
        "outputId": "ac911ba0-88be-4106-aa72-9b15bedb7054"
      },
      "source": [
        "age =15\n",
        "\n",
        "if age < 5:\n",
        "   print(\"아이\")\n",
        "else:\n",
        "   print(\"어른\")    "
      ],
      "execution_count": null,
      "outputs": [
        {
          "output_type": "stream",
          "name": "stdout",
          "text": [
            "어른\n"
          ]
        }
      ]
    },
    {
      "cell_type": "markdown",
      "metadata": {
        "id": "tA6SMLL-n4FL"
      },
      "source": [
        "range(시작 숫자, 끝 숫자) 함수는 시작 숫자부터 끝 숫자보다 하나 적은 숫자까지 포함하는 값을 만들어준다. 시작 숫자가 0인 경우는 생략가능하다. 예를 들어 range(10) 함수는 0부터 10 미만의 숫자를 포함하는 값을 만들어 준다 (0~9). \n",
        "\n",
        "\n"
      ]
    },
    {
      "cell_type": "code",
      "metadata": {
        "colab": {
          "base_uri": "https://localhost:8080/"
        },
        "id": "caf-Ywlq4r84",
        "outputId": "225c54eb-6d96-47cc-e295-be629e563c21"
      },
      "source": [
        "for i in range(10):\n",
        "    print(i)"
      ],
      "execution_count": null,
      "outputs": [
        {
          "output_type": "stream",
          "name": "stdout",
          "text": [
            "0\n",
            "1\n",
            "2\n",
            "3\n",
            "4\n",
            "5\n",
            "6\n",
            "7\n",
            "8\n",
            "9\n"
          ]
        }
      ]
    },
    {
      "cell_type": "code",
      "metadata": {
        "colab": {
          "base_uri": "https://localhost:8080/"
        },
        "id": "6yCiYTDqk48_",
        "outputId": "12264818-118e-4086-85ff-4c4a9a3ed308"
      },
      "source": [
        "for i in range(2,8):\n",
        "    print(i)"
      ],
      "execution_count": null,
      "outputs": [
        {
          "output_type": "stream",
          "name": "stdout",
          "text": [
            "2\n",
            "3\n",
            "4\n",
            "5\n",
            "6\n",
            "7\n"
          ]
        }
      ]
    },
    {
      "cell_type": "markdown",
      "metadata": {
        "id": "CH04n_95p5AB"
      },
      "source": [
        "반복문에서 강제로 빠져나가기 위해서는 break를 사용한다. 만약 반복문을 빠져나가지 않고 맨 처음(조건문)으로 다시 돌아가게 만들고 싶은 경우에는 continue를 사용한다. "
      ]
    },
    {
      "cell_type": "code",
      "metadata": {
        "colab": {
          "base_uri": "https://localhost:8080/"
        },
        "id": "gJ2zbEOrk960",
        "outputId": "550ed125-d19e-451f-9a17-1df364c8fd5d"
      },
      "source": [
        "#i가 6이 되었을때 for문을 빠져나가기 때문에 6부터 숫자가 출력되지 않는다. \n",
        "for i in range(2,8):  #2~7\n",
        "    if i == 6:\n",
        "        break\n",
        "    print(i)"
      ],
      "execution_count": null,
      "outputs": [
        {
          "output_type": "stream",
          "name": "stdout",
          "text": [
            "2\n",
            "3\n",
            "4\n",
            "5\n"
          ]
        }
      ]
    },
    {
      "cell_type": "code",
      "metadata": {
        "colab": {
          "base_uri": "https://localhost:8080/"
        },
        "id": "AE4nTEQWlA-r",
        "outputId": "0577bb50-94fe-4186-de5d-433425a27305"
      },
      "source": [
        "for i in range(1,7):  #1~6\n",
        "    # i가 3이면 출력되지 않고 다음 조건으로 넘어간다. \n",
        "    if i == 3:\n",
        "        continue\n",
        "    # i가 6이면 출력되지 않고 for문을 나가게 된다. \n",
        "    if i == 6:\n",
        "        break\n",
        "    print(i)"
      ],
      "execution_count": null,
      "outputs": [
        {
          "output_type": "stream",
          "name": "stdout",
          "text": [
            "1\n",
            "2\n",
            "4\n",
            "5\n"
          ]
        }
      ]
    },
    {
      "cell_type": "code",
      "metadata": {
        "colab": {
          "base_uri": "https://localhost:8080/"
        },
        "id": "ga1-hGxblDCU",
        "outputId": "28b898c8-38f8-42f4-e94a-8ce20c7aaef3"
      },
      "source": [
        "#0부터 10의 두배 값을 출력\n",
        "for i in range(0,11): #0~10\n",
        "    print(i*2)"
      ],
      "execution_count": null,
      "outputs": [
        {
          "output_type": "stream",
          "name": "stdout",
          "text": [
            "0\n",
            "2\n",
            "4\n",
            "6\n",
            "8\n",
            "10\n",
            "12\n",
            "14\n",
            "16\n",
            "18\n",
            "20\n"
          ]
        }
      ]
    },
    {
      "cell_type": "code",
      "metadata": {
        "colab": {
          "base_uri": "https://localhost:8080/"
        },
        "id": "wqk5gqw_lGLQ",
        "outputId": "33abc28a-c026-41c6-9220-50e42a0dfb46"
      },
      "source": [
        "for i in range(0,10):  #0~9\n",
        "    if i == 3:\n",
        "        continue\n",
        "    if i == 6:\n",
        "        break\n",
        "    double=i*2\n",
        "    print(double)"
      ],
      "execution_count": null,
      "outputs": [
        {
          "output_type": "stream",
          "name": "stdout",
          "text": [
            "0\n",
            "2\n",
            "4\n",
            "8\n",
            "10\n"
          ]
        }
      ]
    },
    {
      "cell_type": "code",
      "metadata": {
        "colab": {
          "base_uri": "https://localhost:8080/"
        },
        "id": "gb_3a6P6lQq1",
        "outputId": "b32784c2-f33a-45b8-cacc-22959236a93e"
      },
      "source": [
        "a_list =[]\n",
        "for i in range(0,10):  #0~9\n",
        "    if i == 1:\n",
        "        continue\n",
        "    if i == 8:\n",
        "        break\n",
        "    double=i*2\n",
        "    a_list.append(double)    # a_list에 추가  \n",
        "\n",
        "print(a_list)"
      ],
      "execution_count": null,
      "outputs": [
        {
          "output_type": "stream",
          "name": "stdout",
          "text": [
            "[0, 4, 6, 8, 10, 12, 14]\n"
          ]
        }
      ]
    },
    {
      "cell_type": "code",
      "metadata": {
        "colab": {
          "base_uri": "https://localhost:8080/"
        },
        "id": "OIbbXd9FlTro",
        "outputId": "d8a44abe-6027-4de3-8fed-8aa40ce30f7a"
      },
      "source": [
        "# while 문과 for문을 사용하여 0부터 9까지 출력 (동일한 결과)\n",
        "idx = 0\n",
        "while idx < 10:\n",
        "    print(idx)\n",
        "    idx = idx + 1   #idx+=1\n",
        "\n",
        "print('---------------')\n",
        "    \n",
        "for idx in range(10):\n",
        "    print(idx)"
      ],
      "execution_count": null,
      "outputs": [
        {
          "output_type": "stream",
          "name": "stdout",
          "text": [
            "0\n",
            "1\n",
            "2\n",
            "3\n",
            "4\n",
            "5\n",
            "6\n",
            "7\n",
            "8\n",
            "9\n",
            "---------------\n",
            "0\n",
            "1\n",
            "2\n",
            "3\n",
            "4\n",
            "5\n",
            "6\n",
            "7\n",
            "8\n",
            "9\n"
          ]
        }
      ]
    },
    {
      "cell_type": "code",
      "metadata": {
        "colab": {
          "base_uri": "https://localhost:8080/"
        },
        "id": "qP-1mryslbBS",
        "outputId": "dcb62c9d-f0d8-45df-c208-a8d80eab526b"
      },
      "source": [
        "basket = ['apple', 'banna', 'chicken', 'juice']\n",
        "\n",
        "# 리스트의 첫번째 값과 네번째 값 출력\n",
        "print(basket[0])\n",
        "print(basket[3])"
      ],
      "execution_count": null,
      "outputs": [
        {
          "output_type": "stream",
          "name": "stdout",
          "text": [
            "apple\n",
            "juice\n"
          ]
        }
      ]
    },
    {
      "cell_type": "code",
      "metadata": {
        "colab": {
          "base_uri": "https://localhost:8080/"
        },
        "id": "BO92IiQknCDX",
        "outputId": "736d9a4e-9754-4e5b-fb84-aaa167d92780"
      },
      "source": [
        "# 리스트의 각 값이 stuff 변수에 대입된 후 print() 함수를 수행하는데 이를 마지막 값까지 반복\n",
        "for stuff in basket:\n",
        "    print(stuff)"
      ],
      "execution_count": null,
      "outputs": [
        {
          "output_type": "stream",
          "name": "stdout",
          "text": [
            "apple\n",
            "banna\n",
            "chicken\n",
            "juice\n"
          ]
        }
      ]
    },
    {
      "cell_type": "code",
      "source": [
        "# for 문을 여러번 사용하여 반복 출력 \n",
        "for i in range(2):  #0~1\n",
        "    print(i)\n",
        "    for stuff in basket:\n",
        "        print(stuff)"
      ],
      "metadata": {
        "colab": {
          "base_uri": "https://localhost:8080/"
        },
        "id": "P6EKNNfNZRcp",
        "outputId": "26f37b34-893b-478c-8aaa-845e15344126"
      },
      "execution_count": null,
      "outputs": [
        {
          "output_type": "stream",
          "name": "stdout",
          "text": [
            "0\n",
            "apple\n",
            "banna\n",
            "chicken\n",
            "juice\n",
            "1\n",
            "apple\n",
            "banna\n",
            "chicken\n",
            "juice\n"
          ]
        }
      ]
    },
    {
      "cell_type": "markdown",
      "metadata": {
        "id": "MWxbQs3IufGN"
      },
      "source": [
        "리스트 안에 for문을 포함하는 리스트 내포(List comprehension)를 사용하면 좀 더 편리하고 직관적인 프로그램을 만들 수 있다. 리스트 내포 안에 \"if 조건\"을 사용할 수도 있다."
      ]
    },
    {
      "cell_type": "code",
      "metadata": {
        "colab": {
          "base_uri": "https://localhost:8080/"
        },
        "id": "wckhEAB2ugTh",
        "outputId": "b1c5467d-5d7c-4e52-b10c-71ad8e13313c"
      },
      "source": [
        "values = [0, 1, 2, 3, 4]\n",
        "squares = []\n",
        "for v in values:\n",
        "    squares.append(v ** 2)\n",
        "    \n",
        "print(squares)"
      ],
      "execution_count": null,
      "outputs": [
        {
          "output_type": "stream",
          "name": "stdout",
          "text": [
            "[0, 1, 4, 9, 16]\n"
          ]
        }
      ]
    },
    {
      "cell_type": "code",
      "metadata": {
        "colab": {
          "base_uri": "https://localhost:8080/"
        },
        "id": "vFTc7STDu6L_",
        "outputId": "d5f1c734-158d-49be-ab60-909d401957d3"
      },
      "source": [
        "values = [0, 1, 2, 3, 4]\n",
        "squares = [v ** 2 for v in values]\n",
        "print(squares)"
      ],
      "execution_count": null,
      "outputs": [
        {
          "output_type": "stream",
          "name": "stdout",
          "text": [
            "[0, 1, 4, 9, 16]\n"
          ]
        }
      ]
    },
    {
      "cell_type": "code",
      "metadata": {
        "colab": {
          "base_uri": "https://localhost:8080/"
        },
        "id": "qUJUnV0ru8_Z",
        "outputId": "511eb1de-b204-4c65-8324-363a05539c87"
      },
      "source": [
        "values = [0, 1, 2, 3, 4]\n",
        "even_squares = [v ** 2 for v in values if v % 2 == 0]\n",
        "print(even_squares)\n",
        "\n",
        "#즉 values안에 있는 값들 중에서 짝수인 애들인 조간에 해당하는 값을 v에 할당하고 제곱한 값들만 출력 "
      ],
      "execution_count": null,
      "outputs": [
        {
          "output_type": "stream",
          "name": "stdout",
          "text": [
            "[0, 4, 16]\n"
          ]
        }
      ]
    },
    {
      "cell_type": "markdown",
      "metadata": {
        "id": "wfXimB1B5fWi"
      },
      "source": [
        "## 7.함수 (function)\n",
        "함수는 일정한 작업을 수행하는 코드 블럭으로 특히 이를 반복하여 사용할 경우 코드를 효과적으로 사용할 수 있게 된다. 주로 어떤 입력값을 주었을 때 어떤 결과값을 돌려주는 형식이다. "
      ]
    },
    {
      "cell_type": "code",
      "source": [
        "# 파이썬에서 제공하는 내장함수: sum, min, max 함수 이용하기 \n",
        "\n",
        "x = [1, 2, 3]\n",
        "y = sum(x)\n",
        "\n",
        "print(y)\n",
        "print(min(x))\n",
        "print(max(x))"
      ],
      "metadata": {
        "colab": {
          "base_uri": "https://localhost:8080/"
        },
        "id": "REdULvNqaZSH",
        "outputId": "adec6d58-4c31-47d2-e147-dc7162036fb6"
      },
      "execution_count": null,
      "outputs": [
        {
          "output_type": "stream",
          "name": "stdout",
          "text": [
            "6\n",
            "1\n",
            "3\n"
          ]
        }
      ]
    },
    {
      "cell_type": "code",
      "metadata": {
        "colab": {
          "base_uri": "https://localhost:8080/"
        },
        "id": "-7tXQcvn5e-p",
        "outputId": "11d9ad94-9c29-46b4-b269-11117d06ab7c"
      },
      "source": [
        "# def을 사용하여 함수 정의(define의 의미)\n",
        "# return은 함수의 결과값을 돌려주는 명령어\n",
        "def multiply(a,b):\n",
        "    c=a*b\n",
        "    return c\n",
        "\n",
        "print(multiply(3,4))\n",
        "print(multiply(4,6))"
      ],
      "execution_count": null,
      "outputs": [
        {
          "output_type": "stream",
          "name": "stdout",
          "text": [
            "12\n",
            "24\n"
          ]
        }
      ]
    },
    {
      "cell_type": "code",
      "metadata": {
        "colab": {
          "base_uri": "https://localhost:8080/"
        },
        "id": "qPbZyCJizbRf",
        "outputId": "7d272422-364a-471c-88fd-d335f5006e91"
      },
      "source": [
        "def multiply(a,b,c):\n",
        "    f=a*b*c\n",
        "    return f\n",
        "\n",
        "print(multiply(1,2,3))\n",
        "print(multiply(5,4,6))"
      ],
      "execution_count": null,
      "outputs": [
        {
          "output_type": "stream",
          "name": "stdout",
          "text": [
            "6\n",
            "120\n"
          ]
        }
      ]
    },
    {
      "cell_type": "code",
      "metadata": {
        "colab": {
          "base_uri": "https://localhost:8080/"
        },
        "id": "RigXQB42zbD0",
        "outputId": "92e4e9f4-1fcc-4ac1-ddde-dbf2f56d9f21"
      },
      "source": [
        "def sign(n):\n",
        "    if n > 0:\n",
        "        return '양수'\n",
        "    elif n < 0:\n",
        "        return '음수'\n",
        "    else:\n",
        "        return '0'\n",
        "\n",
        "for n in range(-3,3):  #-3~2\n",
        "    print(sign(n)) "
      ],
      "execution_count": null,
      "outputs": [
        {
          "output_type": "stream",
          "name": "stdout",
          "text": [
            "음수\n",
            "음수\n",
            "음수\n",
            "0\n",
            "양수\n",
            "양수\n"
          ]
        }
      ]
    },
    {
      "cell_type": "code",
      "metadata": {
        "colab": {
          "base_uri": "https://localhost:8080/"
        },
        "id": "Se3TPqC9zz2g",
        "outputId": "af0dfbc6-4a08-4035-8930-41659c36debc"
      },
      "source": [
        "for x in [-1, 0, 1]:\n",
        "    print(sign(x))"
      ],
      "execution_count": null,
      "outputs": [
        {
          "output_type": "stream",
          "name": "stdout",
          "text": [
            "음수\n",
            "0\n",
            "양수\n"
          ]
        }
      ]
    },
    {
      "cell_type": "markdown",
      "source": [
        "## 연습문제"
      ],
      "metadata": {
        "id": "P3eiJ3vXg7OO"
      }
    },
    {
      "cell_type": "markdown",
      "source": [
        "### **연습1:특정 위치 출력**\n",
        "나라온의 주민등록번호는 910906-201321이다. 년월일(YYYYMMDD) 부분과 그 뒤의 숫자 부분으로 나누어 출력해 보자."
      ],
      "metadata": {
        "id": "kgkQMOXMvMpo"
      }
    },
    {
      "cell_type": "code",
      "source": [
        "# 연습: 특정 위치 출력\n",
        "pin = \"910906-201321\"\n",
        "\n",
        "date=pin[:6]\n",
        "num=pin[7:]\n",
        "print(date)\n",
        "print(num)\n"
      ],
      "metadata": {
        "id": "yk6TIKKovNAq",
        "colab": {
          "base_uri": "https://localhost:8080/"
        },
        "outputId": "c336872e-6bc1-4a96-9dbb-cb76f0f6dda7"
      },
      "execution_count": null,
      "outputs": [
        {
          "output_type": "stream",
          "name": "stdout",
          "text": [
            "910906\n",
            "201321\n"
          ]
        }
      ]
    },
    {
      "cell_type": "markdown",
      "source": [
        "### **연습2: 출력 결과**\n",
        "다음 중 출력 결과가 다른 것 한 개를 골라 보자.  \n",
        "1) print(\"we\" \"are\" \"happy\")  \n",
        "2) print(\"we\", \"are\", \"happy\")  \n",
        "3) print(\"we\"+\"are\"+\"happy\")  \n",
        "4) print(\"\".join([\"we\", \"are\", \"happy\"]))  "
      ],
      "metadata": {
        "id": "gQgvGpREvqY6"
      }
    },
    {
      "cell_type": "code",
      "source": [
        "# 연습: 출력 결과\n",
        "\n",
        "print(\"we\" \"are\" \"happy\")\n",
        "print(\"we\", \"are\", \"happy\")\n",
        "print(\"we\"+\"are\"+\"happy\")\n",
        "print(\"\".join([\"we\", \"are\", \"happy\"]))\n"
      ],
      "metadata": {
        "id": "dqOQqvFjv6mV",
        "colab": {
          "base_uri": "https://localhost:8080/"
        },
        "outputId": "2d1bb4c6-005f-44a4-cb73-af7358e6adc5"
      },
      "execution_count": null,
      "outputs": [
        {
          "output_type": "stream",
          "name": "stdout",
          "text": [
            "wearehappy\n",
            "we are happy\n",
            "wearehappy\n",
            "wearehappy\n"
          ]
        }
      ]
    },
    {
      "cell_type": "markdown",
      "source": [
        "### **연습3: 문장 출력** \n",
        "다음 두 문장을 모든 부호(큰따옴표, 작은 따옴표)를 포함해서 하나의 print 문으로 출력해 보시오. (Hint: 삼중 따옴표 이용)\n",
        "\n",
        "\"She's gone! Yon' Heathcliff's run off wi' her!\" gasped the girl.  \n",
        "\"That is not true!\" exclaimed Linton, rising in agitation.\n"
      ],
      "metadata": {
        "id": "HrlBCE0GuQcQ"
      }
    },
    {
      "cell_type": "code",
      "source": [
        "# 연습: 문장 출력\n",
        "# print('\\\"She\\'s gone! Yon\\' Heathcliff\\'s run off wi\\' her!\\\" gasped the girl.')\n",
        "# print('\\\"That is not true!\\\" exclaimed Linton, rising in agitation.')\n",
        "\n",
        "print('''\n",
        "\"She's gone! Yon' Heathcliff's run off wi' her!\" gasped the girl.\n",
        "\"That is not true!\" exclaimed Linton, rising in agitation.\n",
        "''')"
      ],
      "metadata": {
        "id": "POWIotSLuaTG",
        "colab": {
          "base_uri": "https://localhost:8080/"
        },
        "outputId": "e1790cb1-a58f-42cf-f9f1-8dc3ff72e527"
      },
      "execution_count": null,
      "outputs": [
        {
          "output_type": "stream",
          "name": "stdout",
          "text": [
            "\n",
            "\"She's gone! Yon' Heathcliff's run off wi' her!\" gasped the girl.\n",
            "\"That is not true!\" exclaimed Linton, rising in agitation.\n",
            "\n"
          ]
        }
      ]
    },
    {
      "cell_type": "markdown",
      "source": [
        "### **연습4: 가격 계산**  \n",
        "SM Restaurant에서 주문한 메뉴의 가격은 $31.45 이지만 가격의 8.6%에 해당되는 판매세를 추가해야 한다. 여기에 총 가격의 15%에 해당되는 팁까지 포함할 경우 지불해야 하는\n",
        "총 가격은 얼마인지 소수점 둘째자리까지 보여주시오. (계산 과정을 변수를 사용해서 보여주시오.)"
      ],
      "metadata": {
        "id": "BGIYrYghwpFw"
      }
    },
    {
      "cell_type": "code",
      "source": [
        "# 연습: 가격 계산 \n",
        "\n",
        "meal = 31.45\n",
        "tax_rate = 0.086\n",
        "tip_rate = 0.15\n",
        "\n",
        "tax=meal*(1+tax_rate)\n",
        "end=tax*(1+tip_rate)\n",
        "print(tax)\n",
        "print(end)\n",
        "print(\"%0.2f\" %end) \n",
        "print(round(end,2))\n",
        "\n",
        "#새로운 변수를 만들어서 계산, 총 계산값 도출 "
      ],
      "metadata": {
        "id": "ieFPWxfcwqKS",
        "colab": {
          "base_uri": "https://localhost:8080/"
        },
        "outputId": "ce120fc5-5a58-4a48-e8b9-a5744b87f580"
      },
      "execution_count": null,
      "outputs": [
        {
          "output_type": "stream",
          "name": "stdout",
          "text": [
            "34.1547\n",
            "39.277905\n",
            "39.28\n",
            "39.28\n"
          ]
        }
      ]
    },
    {
      "cell_type": "markdown",
      "metadata": {
        "id": "K5scCFw1lcQS"
      },
      "source": [
        "### **연습5: 구구단 만들기**  \n",
        "for 문을 이용하여 다음과 같이 구구단 결과가 나오도록 만들시오.   \n",
        "   1 x 1 = 1  \n",
        "   1 x 2 = 2  \n",
        "   1 x 3 = 3  \n",
        "   :\n",
        "\n",
        "   9 x 9 = 81  \n"
      ]
    },
    {
      "cell_type": "code",
      "metadata": {
        "id": "P6qzRlsmlb8i",
        "colab": {
          "base_uri": "https://localhost:8080/"
        },
        "outputId": "5ee7445c-9b5b-4654-8890-848c65b0d891"
      },
      "source": [
        "# 연습: 구구단 만들기\n",
        "\n",
        "for i in range (1,10):\n",
        "    print(\"=\"*10+\"[{0}단]\".format(i)+\"=\"*10)\n",
        "    for j in range(1,10):\n",
        "        print(i, \"X\", j, \"=\", i*j)\n",
        "\n",
        "\n",
        "\n",
        "\n"
      ],
      "execution_count": null,
      "outputs": [
        {
          "output_type": "stream",
          "name": "stdout",
          "text": [
            "==========[1단]==========\n",
            "1 X 1 = 1\n",
            "1 X 2 = 2\n",
            "1 X 3 = 3\n",
            "1 X 4 = 4\n",
            "1 X 5 = 5\n",
            "1 X 6 = 6\n",
            "1 X 7 = 7\n",
            "1 X 8 = 8\n",
            "1 X 9 = 9\n",
            "==========[2단]==========\n",
            "2 X 1 = 2\n",
            "2 X 2 = 4\n",
            "2 X 3 = 6\n",
            "2 X 4 = 8\n",
            "2 X 5 = 10\n",
            "2 X 6 = 12\n",
            "2 X 7 = 14\n",
            "2 X 8 = 16\n",
            "2 X 9 = 18\n",
            "==========[3단]==========\n",
            "3 X 1 = 3\n",
            "3 X 2 = 6\n",
            "3 X 3 = 9\n",
            "3 X 4 = 12\n",
            "3 X 5 = 15\n",
            "3 X 6 = 18\n",
            "3 X 7 = 21\n",
            "3 X 8 = 24\n",
            "3 X 9 = 27\n",
            "==========[4단]==========\n",
            "4 X 1 = 4\n",
            "4 X 2 = 8\n",
            "4 X 3 = 12\n",
            "4 X 4 = 16\n",
            "4 X 5 = 20\n",
            "4 X 6 = 24\n",
            "4 X 7 = 28\n",
            "4 X 8 = 32\n",
            "4 X 9 = 36\n",
            "==========[5단]==========\n",
            "5 X 1 = 5\n",
            "5 X 2 = 10\n",
            "5 X 3 = 15\n",
            "5 X 4 = 20\n",
            "5 X 5 = 25\n",
            "5 X 6 = 30\n",
            "5 X 7 = 35\n",
            "5 X 8 = 40\n",
            "5 X 9 = 45\n",
            "==========[6단]==========\n",
            "6 X 1 = 6\n",
            "6 X 2 = 12\n",
            "6 X 3 = 18\n",
            "6 X 4 = 24\n",
            "6 X 5 = 30\n",
            "6 X 6 = 36\n",
            "6 X 7 = 42\n",
            "6 X 8 = 48\n",
            "6 X 9 = 54\n",
            "==========[7단]==========\n",
            "7 X 1 = 7\n",
            "7 X 2 = 14\n",
            "7 X 3 = 21\n",
            "7 X 4 = 28\n",
            "7 X 5 = 35\n",
            "7 X 6 = 42\n",
            "7 X 7 = 49\n",
            "7 X 8 = 56\n",
            "7 X 9 = 63\n",
            "==========[8단]==========\n",
            "8 X 1 = 8\n",
            "8 X 2 = 16\n",
            "8 X 3 = 24\n",
            "8 X 4 = 32\n",
            "8 X 5 = 40\n",
            "8 X 6 = 48\n",
            "8 X 7 = 56\n",
            "8 X 8 = 64\n",
            "8 X 9 = 72\n",
            "==========[9단]==========\n",
            "9 X 1 = 9\n",
            "9 X 2 = 18\n",
            "9 X 3 = 27\n",
            "9 X 4 = 36\n",
            "9 X 5 = 45\n",
            "9 X 6 = 54\n",
            "9 X 7 = 63\n",
            "9 X 8 = 72\n",
            "9 X 9 = 81\n"
          ]
        }
      ]
    },
    {
      "cell_type": "markdown",
      "source": [
        "### **연습6: 평균 구하기**  \n",
        "01분반 5명의 학생들의 중간고사 점수는 다음과 같다. sum, len 함수를 이용해서 평균 점수를 구해 보자.  \n",
        "\n",
        "score = [80, 60, 70, 50, 90]  \n"
      ],
      "metadata": {
        "id": "dkkyJrP4gwdb"
      }
    },
    {
      "cell_type": "code",
      "source": [
        "# 연습: 평균 구하기 \n",
        "score = [80, 60, 70, 50, 90] \n",
        "\n",
        "print(sum(score))\n",
        "print(len(score))\n",
        "print(sum(score)/len(score))"
      ],
      "metadata": {
        "id": "0321sp0YgOG8",
        "colab": {
          "base_uri": "https://localhost:8080/"
        },
        "outputId": "6f4509bd-22ce-446b-a109-bfb4029b81bc"
      },
      "execution_count": null,
      "outputs": [
        {
          "output_type": "stream",
          "name": "stdout",
          "text": [
            "350\n",
            "5\n",
            "70.0\n"
          ]
        }
      ]
    },
    {
      "cell_type": "markdown",
      "source": [
        "### **연습7: join 함수**  \n",
        "다음 리스트를 join 함수를 이용하여 We are happy 문자열로 만들어 출력해 보자.\n",
        "\n",
        "mylist = ['We', 'are', 'happy']"
      ],
      "metadata": {
        "id": "v3dW8tnMwJ6K"
      }
    },
    {
      "cell_type": "code",
      "source": [
        "# 연습: join 함수   \n",
        "\n",
        "mylist = ['We', 'are', 'happy']\n",
        "print(\" \".join(mylist))\n"
      ],
      "metadata": {
        "id": "aTkhypSywKlQ",
        "colab": {
          "base_uri": "https://localhost:8080/"
        },
        "outputId": "94c7a222-fb8f-4448-f3e1-30ac98b5eac4"
      },
      "execution_count": null,
      "outputs": [
        {
          "output_type": "stream",
          "name": "stdout",
          "text": [
            "We are happy\n"
          ]
        }
      ]
    },
    {
      "cell_type": "markdown",
      "source": [
        "### **심화 연습: for, if문**\n",
        "\n",
        "다음 문자열에서 모음 [ ‘a’, ‘e’, ‘i’, ‘o’, ‘u’ ] 이 몇 번 나오는지 출력하시오. (Hint: for, if 문 이용)\n",
        "\n",
        "tx = 'Perfection requires the hand of time'"
      ],
      "metadata": {
        "id": "XeBQ4r1poyMj"
      }
    },
    {
      "cell_type": "code",
      "source": [
        "# 추가 연습: for, if문\n",
        "  \n",
        "tx = 'Perfection requires the hand of time'\n",
        "\n",
        "num=0\n",
        "a=['a', 'e', 'i', 'o', 'u']\n",
        "for i in tx:\n",
        "    if i in a:\n",
        "        num=num+1 # num+=1\n",
        "\n",
        "print(num)\n",
        "\n",
        "\n"
      ],
      "metadata": {
        "id": "NxkGsr0vqWNr",
        "colab": {
          "base_uri": "https://localhost:8080/"
        },
        "outputId": "0c7556b3-b41b-454e-f6ed-d5c4dce93bee"
      },
      "execution_count": null,
      "outputs": [
        {
          "output_type": "stream",
          "name": "stdout",
          "text": [
            "13\n"
          ]
        }
      ]
    },
    {
      "cell_type": "markdown",
      "metadata": {
        "id": "X-PsI4rp5UW6"
      },
      "source": [
        "## 심화.튜플 (tuple)\n",
        "튜플은 리스트와 거의 같은 용도로 사용되나 내용을 갱신할 수 없다는 제약을 갖는다. 즉, 상수화된 리스트라고 볼 수 있다.\n",
        "이렇게 상수화된 리스트를 사용하는 이유는 더 이상 내용을 변경하는 것을 방지하는 목적도 있고, 처리속도를 빠르게 한다는 장점도 있다.\n",
        "\n",
        "리스트를 만들때와 달리 튜플을 만들려면 ( )을 사용하거나 괄호를 넣지 않아도 된다."
      ]
    },
    {
      "cell_type": "code",
      "metadata": {
        "colab": {
          "base_uri": "https://localhost:8080/"
        },
        "id": "Nw0F2FI2zRFE",
        "outputId": "b639efef-7e49-48f4-8616-173be0d79951"
      },
      "source": [
        "t1 = (1, 3, 5)\n",
        "t2 = 2, 4, 6\n",
        "t3 = (1, )   # t3= (1) 이면 int 정수로 인식 \n",
        "t4 = ('a', 'b', ('ab', 'cd'))\n",
        "print(type(t1))\n",
        "print(type(t2))\n",
        "print(type(t3))\n",
        "print(type(t4))\n",
        "\n",
        "print(t1)\n",
        "print(t2)\n",
        "print(t3)\n",
        "print(t4)"
      ],
      "execution_count": null,
      "outputs": [
        {
          "output_type": "stream",
          "name": "stdout",
          "text": [
            "<class 'tuple'>\n",
            "<class 'tuple'>\n",
            "<class 'tuple'>\n",
            "<class 'tuple'>\n",
            "(1, 3, 5)\n",
            "(2, 4, 6)\n",
            "(1,)\n",
            "('a', 'b', ('ab', 'cd'))\n"
          ]
        }
      ]
    },
    {
      "cell_type": "markdown",
      "source": [
        "list(), tuple() 함수를 이용하여 튜플을 리스트로,  리스트를 튜플로 변환 가능하다. "
      ],
      "metadata": {
        "id": "uOQeVuf_yFnh"
      }
    },
    {
      "cell_type": "code",
      "metadata": {
        "colab": {
          "base_uri": "https://localhost:8080/"
        },
        "id": "_QqNqXKCzTIu",
        "outputId": "c3c866ac-06b1-4adf-88d3-7fc78ac50766"
      },
      "source": [
        "t = (1, 2, 3)\n",
        "print(t)\n",
        "\n",
        "l = list(t)\n",
        "print(l)\n",
        "\n",
        "t2 = tuple(l)\n",
        "print(t2)"
      ],
      "execution_count": null,
      "outputs": [
        {
          "output_type": "stream",
          "text": [
            "(1, 2, 3)\n",
            "[1, 2, 3]\n",
            "(1, 2, 3)\n"
          ],
          "name": "stdout"
        }
      ]
    },
    {
      "cell_type": "markdown",
      "metadata": {
        "id": "zJjMO0545MGk"
      },
      "source": [
        "## 심화.딕셔너리 (Dictionary)\n",
        "모든 항목이 '키(key)':값(value) 으로 구성되는 데이터 형식이다. 딕셔너리 데이터를 만들 때는 { }를 사용한다. [] 안에 키를 넣어 사용하면 해당 키의 값을 얻을 수 있다. 값으로는 상수, 리스트, 튜플 등 다양한 형식의 데이터를 사용할 수 있다. "
      ]
    },
    {
      "cell_type": "code",
      "metadata": {
        "colab": {
          "base_uri": "https://localhost:8080/"
        },
        "id": "AwA534Hy5Vyp",
        "outputId": "bed74d2a-7750-40ba-fce7-3cdce16baa7f"
      },
      "source": [
        "dic = {'id': 1, 'name': 'kim'}\n",
        "\n",
        "print(dic)\n",
        "print(type(dic))\n",
        "print(dic['id'])\n",
        "print(dic['name'])"
      ],
      "execution_count": null,
      "outputs": [
        {
          "output_type": "stream",
          "name": "stdout",
          "text": [
            "{'id': 1, 'name': 'kim'}\n",
            "<class 'dict'>\n",
            "1\n",
            "kim\n"
          ]
        }
      ]
    },
    {
      "cell_type": "code",
      "source": [
        "dic = {'id': 1, 'name': ['kim', 'park'], 'nclass':(1, 2, 3)}  # 2개 이상의 값도 가능하다 \n",
        "print(dic['name'])\n",
        "print(dic['nclass'][0])  # nclass의 첫번째 값 추출 "
      ],
      "metadata": {
        "colab": {
          "base_uri": "https://localhost:8080/"
        },
        "id": "wY1IAXEuz_rP",
        "outputId": "3eaa023b-3f6d-4a0d-f35c-cca039cf1d77"
      },
      "execution_count": null,
      "outputs": [
        {
          "output_type": "stream",
          "name": "stdout",
          "text": [
            "['kim', 'park']\n",
            "1\n"
          ]
        }
      ]
    },
    {
      "cell_type": "code",
      "metadata": {
        "colab": {
          "base_uri": "https://localhost:8080/"
        },
        "id": "uxyncyyW2GvN",
        "outputId": "6571b09f-1a93-4307-bd73-3d03fe8ca97d"
      },
      "source": [
        "dic = {'id': 1, 'name': ['kim', 'park'], 'nclass':(1, 2, 3)}  \n",
        "dic['score'] = [5, 6, 7]      # 새로운 키-값을 추가\n",
        "dic['id'] = 2                 # 값 변경  \n",
        "\n",
        "print(dic)"
      ],
      "execution_count": null,
      "outputs": [
        {
          "output_type": "stream",
          "name": "stdout",
          "text": [
            "{'id': 2, 'name': ['kim', 'park'], 'nclass': (1, 2, 3), 'score': [5, 6, 7]}\n"
          ]
        }
      ]
    },
    {
      "cell_type": "code",
      "metadata": {
        "colab": {
          "base_uri": "https://localhost:8080/"
        },
        "id": "7Ig8bbYNy-M2",
        "outputId": "84c69b58-b6f3-419d-ff43-3063d701017d"
      },
      "source": [
        "del dic['id']                     # 딕셔너리의 키-값 삭제 \n",
        "del dic['score'][1]               # score의 두번째 값 삭제 \n",
        "\n",
        "print(dic)"
      ],
      "execution_count": null,
      "outputs": [
        {
          "output_type": "stream",
          "name": "stdout",
          "text": [
            "{'name': ['kim', 'park'], 'nclass': (1, 2, 3), 'score': [5, 7]}\n"
          ]
        }
      ]
    },
    {
      "cell_type": "code",
      "metadata": {
        "colab": {
          "base_uri": "https://localhost:8080/"
        },
        "id": "wwMAYApyzAyj",
        "outputId": "7cd81214-e985-428f-ff34-65613c22ba29"
      },
      "source": [
        "d = {'person': 2, 'cat': 4, 'spider': 8}\n",
        "for animal in d:      # d 대신 d.keys()를 사용해도 동일한 결과를 얻음 \n",
        "    legs = d[animal]\n",
        "    print('This %s has %d legs.' %(animal, legs))"
      ],
      "execution_count": null,
      "outputs": [
        {
          "output_type": "stream",
          "name": "stdout",
          "text": [
            "This person has 2 legs.\n",
            "This cat has 4 legs.\n",
            "This spider has 8 legs.\n"
          ]
        }
      ]
    },
    {
      "cell_type": "code",
      "metadata": {
        "colab": {
          "base_uri": "https://localhost:8080/"
        },
        "id": "Xp8d5BRszCw3",
        "outputId": "d1914bb1-1e38-483a-d0bf-de64851591a0"
      },
      "source": [
        "#items() 함수는 키-값의 쌍을 튜플(key, value)로 묶은 값을 돌려준다.\n",
        "\n",
        "for animal, legs in d.items():\n",
        "    print('This %s has %d legs' %(animal, legs))"
      ],
      "execution_count": null,
      "outputs": [
        {
          "output_type": "stream",
          "name": "stdout",
          "text": [
            "This person has 2 legs\n",
            "This cat has 4 legs\n",
            "This spider has 8 legs\n"
          ]
        }
      ]
    }
  ]
}